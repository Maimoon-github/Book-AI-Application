{
 "cells": [
  {
   "cell_type": "code",
   "execution_count": null,
   "id": "cbf9a5b1",
   "metadata": {},
   "outputs": [
    {
     "data": {
      "application/vnd.jupyter.widget-view+json": {
       "model_id": "89e908ef058042a6aad4ceaed43119ee",
       "version_major": 2,
       "version_minor": 0
      },
      "text/plain": [
       "FileUpload(value=(), accept='.pdf,.epub,.mobi,.docx,.txt', description='Upload')"
      ]
     },
     "metadata": {},
     "output_type": "display_data"
    },
    {
     "name": "stdout",
     "output_type": "stream",
     "text": [
      "No file uploaded yet.\n"
     ]
    }
   ],
   "source": [
    "import ipywidgets as widgets\n",
    "from IPython.display import display\n",
    "import tempfile\n",
    "\n",
    "# Create file picker widget accepting PDFs and additional document types.\n",
    "upload_widget = widgets.FileUpload(\n",
    "    accept=\".pdf,.epub,.mobi,.docx,.txt\",  # File types to accept\n",
    "    multiple=False  # Only one file at a time\n",
    ")\n",
    "\n",
    "def handle_upload(change):\n",
    "    for filename, file_info in upload_widget.value.items():\n",
    "        content = file_info[\"content\"]\n",
    "        # Use tempfile to store the uploaded file temporarily\n",
    "        ext = '.' + filename.split('.')[-1] if '.' in filename else ''\n",
    "        with tempfile.NamedTemporaryFile(delete=False, prefix=\"uploaded_\", suffix=ext) as temp_file:\n",
    "            temp_file.write(content)\n",
    "            print(f\"File '{filename}' saved to: {temp_file.name}\")\n",
    "\n",
    "# Observe changes in the widget value; when a file is uploaded, handle it.\n",
    "upload_widget.observe(handle_upload, names=\"value\")\n",
    "display(upload_widget)\n",
    "\n",
    "print(\"File uploaded!\" if upload_widget.value else \"No file uploaded yet.\")"
   ]
  },
  {
   "cell_type": "code",
   "execution_count": null,
   "id": "463df1fa",
   "metadata": {},
   "outputs": [
    {
     "ename": "TypeError",
     "evalue": "'FileUpload' object is not callable",
     "output_type": "error",
     "traceback": [
      "\u001b[31m---------------------------------------------------------------------------\u001b[39m",
      "\u001b[31mTypeError\u001b[39m                                 Traceback (most recent call last)",
      "\u001b[36mCell\u001b[39m\u001b[36m \u001b[39m\u001b[32mIn[7]\u001b[39m\u001b[32m, line 25\u001b[39m\n\u001b[32m     22\u001b[39m upload_widget.observe(handle_upload, names=\u001b[33m\"\u001b[39m\u001b[33mvalue\u001b[39m\u001b[33m\"\u001b[39m)\n\u001b[32m     24\u001b[39m \u001b[38;5;66;03m# Show the widget so user can upload file\u001b[39;00m\n\u001b[32m---> \u001b[39m\u001b[32m25\u001b[39m display(\u001b[43mupload_widget\u001b[49m\u001b[43m(\u001b[49m\u001b[33;43m\"\u001b[39;49m\u001b[33;43m10 English Full Book Punjab.pdf\u001b[39;49m\u001b[33;43m\"\u001b[39;49m\u001b[43m)\u001b[49m)\n",
      "\u001b[31mTypeError\u001b[39m: 'FileUpload' object is not callable"
     ]
    }
   ],
   "source": [
    "import ipywidgets as widgets \n",
    "from IPython.display import display\n",
    "import tempfile\n",
    "\n",
    "# Create file picker widget accepting PDFs and additional document types.\n",
    "upload_widget = widgets.FileUpload(\n",
    "    accept=\".pdf,.epub,.mobi,.docx,.txt\",  # File types to accept\n",
    "    multiple=False  # Only one file at a time\n",
    ")\n",
    "\n",
    "# This function runs when a file is uploaded\n",
    "def handle_upload(change):\n",
    "    for filename, file_info in upload_widget.value.items():\n",
    "        content = file_info[\"content\"]\n",
    "        # Save file to a temporary location\n",
    "        ext = '.' + filename.split('.')[-1] if '.' in filename else ''\n",
    "        with tempfile.NamedTemporaryFile(delete=False, prefix=\"uploaded_\", suffix=ext) as temp_file:\n",
    "            temp_file.write(content)\n",
    "            print(f\"File '{filename}' saved to: {temp_file.name}\")\n",
    "\n",
    "# Connect the function to the upload widget\n",
    "upload_widget.observe(handle_upload, names=\"value\")\n",
    "\n",
    "# Show the widget so user can upload file\n",
    "display(upload_widget(\"10 English Full Book Punjab.pdf\"))\n"
   ]
  },
  {
   "cell_type": "code",
   "execution_count": null,
   "id": "6c67a399",
   "metadata": {},
   "outputs": [],
   "source": []
  }
 ],
 "metadata": {
  "kernelspec": {
   "display_name": "book_ai",
   "language": "python",
   "name": "python3"
  },
  "language_info": {
   "codemirror_mode": {
    "name": "ipython",
    "version": 3
   },
   "file_extension": ".py",
   "mimetype": "text/x-python",
   "name": "python",
   "nbconvert_exporter": "python",
   "pygments_lexer": "ipython3",
   "version": "3.13.2"
  }
 },
 "nbformat": 4,
 "nbformat_minor": 5
}
