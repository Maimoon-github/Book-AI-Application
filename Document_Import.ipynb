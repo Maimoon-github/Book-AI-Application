{
 "cells": [
  {
   "cell_type": "code",
   "execution_count": null,
   "id": "cbf9a5b1",
   "metadata": {},
   "outputs": [
    {
     "data": {
      "application/vnd.jupyter.widget-view+json": {
       "model_id": "89e908ef058042a6aad4ceaed43119ee",
       "version_major": 2,
       "version_minor": 0
      },
      "text/plain": [
       "FileUpload(value=(), accept='.pdf,.epub,.mobi,.docx,.txt', description='Upload')"
      ]
     },
     "metadata": {},
     "output_type": "display_data"
    },
    {
     "name": "stdout",
     "output_type": "stream",
     "text": [
      "No file uploaded yet.\n"
     ]
    }
   ],
   "source": [
    "import ipywidgets as widgets\n",
    "from IPython.display import display\n",
    "import tempfile\n",
    "\n",
    "# Create file picker widget accepting PDFs and additional document types.\n",
    "upload_widget = widgets.FileUpload(\n",
    "    accept=\".pdf,.epub,.mobi,.docx,.txt\",  # File types to accept\n",
    "    multiple=False  # Only one file at a time\n",
    ")\n",
    "\n",
    "def handle_upload(change):\n",
    "    for filename, file_info in upload_widget.value.items():\n",
    "        content = file_info[\"content\"]\n",
    "        # Use tempfile to store the uploaded file temporarily\n",
    "        ext = '.' + filename.split('.')[-1] if '.' in filename else ''\n",
    "        with tempfile.NamedTemporaryFile(delete=False, prefix=\"uploaded_\", suffix=ext) as temp_file:\n",
    "            temp_file.write(content)\n",
    "            print(f\"File '{filename}' saved to: {temp_file.name}\")\n",
    "\n",
    "# Observe changes in the widget value; when a file is uploaded, handle it.\n",
    "upload_widget.observe(handle_upload, names=\"value\")\n",
    "display(upload_widget)\n",
    "\n",
    "\n"
   ]
  },
  {
   "cell_type": "code",
   "execution_count": 17,
   "id": "6fca0a34",
   "metadata": {},
   "outputs": [
    {
     "name": "stdout",
     "output_type": "stream",
     "text": [
      "No uploaded files to process.\n"
     ]
    }
   ],
   "source": [
    "import fitz  # PyMuPDF\n",
    "\n",
    "def extract_pdf_content(file_path):\n",
    "    doc = fitz.open(file_path)\n",
    "    content = \"\"\n",
    "    structural_elements = []  # list to store detected headings as (text, page number, font size, font name)\n",
    "    \n",
    "    # Process each page in the document\n",
    "    for page_idx in range(len(doc)):\n",
    "        page = doc[page_idx]\n",
    "        blocks = page.get_text(\"dict\")[\"blocks\"]\n",
    "        for b in blocks:\n",
    "            if b.get(\"type\") == 0:  # this is a text block\n",
    "                for line in b[\"lines\"]:\n",
    "                    for span in line[\"spans\"]:\n",
    "                        text = span[\"text\"]\n",
    "                        fontsize = span[\"size\"]\n",
    "                        fontname = span[\"font\"]\n",
    "                        content += text + \" \"\n",
    "                        \n",
    "                        # Using a naive heuristic to detect headings/chapter titles:\n",
    "                        # If the font size is larger than 14 or the font indicates bold style\n",
    "                        if fontsize > 14 or \"Bold\" in fontname or \"bold\" in fontname:\n",
    "                            structural_elements.append((text, page_idx + 1, fontsize, fontname))\n",
    "                    content += \"\\n\"\n",
    "    return content, structural_elements\n",
    "\n",
    "# Example usage:\n",
    "# Process the file paths stored in uploaded_files if available.\n",
    "if uploaded_files:\n",
    "    for filename, file_path in uploaded_files.items():\n",
    "        if filename.lower().endswith(\".pdf\"):\n",
    "            text, headings = extract_pdf_content(file_path)\n",
    "            print(\"Extracted text:\")\n",
    "            print(text)\n",
    "            print(\"\\nInferred Headings/Chapters:\")\n",
    "            for h in headings:\n",
    "                print(\"Heading:\", h[0], \"| Page:\", h[1], \"| Font Size:\", h[2], \"| Font:\", h[3])\n",
    "else:\n",
    "    print(\"No uploaded files to process.\")\n"
   ]
  },
  {
   "cell_type": "code",
   "execution_count": null,
   "id": "561564f0",
   "metadata": {},
   "outputs": [],
   "source": []
  }
 ],
 "metadata": {
  "kernelspec": {
   "display_name": "book_ai",
   "language": "python",
   "name": "python3"
  },
  "language_info": {
   "codemirror_mode": {
    "name": "ipython",
    "version": 3
   },
   "file_extension": ".py",
   "mimetype": "text/x-python",
   "name": "python",
   "nbconvert_exporter": "python",
   "pygments_lexer": "ipython3",
   "version": "3.13.2"
  }
 },
 "nbformat": 4,
 "nbformat_minor": 5
}
