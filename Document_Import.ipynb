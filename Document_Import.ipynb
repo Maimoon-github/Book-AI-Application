{
 "cells": [
  {
   "cell_type": "code",
   "execution_count": null,
   "id": "cbf9a5b1",
   "metadata": {},
   "outputs": [
    {
     "data": {
      "application/vnd.jupyter.widget-view+json": {
       "model_id": "89e908ef058042a6aad4ceaed43119ee",
       "version_major": 2,
       "version_minor": 0
      },
      "text/plain": [
       "FileUpload(value=(), accept='.pdf,.epub,.mobi,.docx,.txt', description='Upload')"
      ]
     },
     "metadata": {},
     "output_type": "display_data"
    },
    {
     "name": "stdout",
     "output_type": "stream",
     "text": [
      "No file uploaded yet.\n"
     ]
    }
   ],
   "source": [
    "import ipywidgets as widgets\n",
    "from IPython.display import display\n",
    "import tempfile\n",
    "\n",
    "# Create file picker widget accepting PDFs and additional document types.\n",
    "upload_widget = widgets.FileUpload(\n",
    "    accept=\".pdf,.epub,.mobi,.docx,.txt\",  # File types to accept\n",
    "    multiple=False  # Only one file at a time\n",
    ")\n",
    "\n",
    "def handle_upload(change):\n",
    "    for filename, file_info in upload_widget.value.items():\n",
    "        content = file_info[\"content\"]\n",
    "        # Use tempfile to store the uploaded file temporarily\n",
    "        ext = '.' + filename.split('.')[-1] if '.' in filename else ''\n",
    "        with tempfile.NamedTemporaryFile(delete=False, prefix=\"uploaded_\", suffix=ext) as temp_file:\n",
    "            temp_file.write(content)\n",
    "            print(f\"File '{filename}' saved to: {temp_file.name}\")\n",
    "\n",
    "# Observe changes in the widget value; when a file is uploaded, handle it.\n",
    "upload_widget.observe(handle_upload, names=\"value\")\n",
    "display(upload_widget)\n",
    "\n",
    "\n"
   ]
  },
  {
   "cell_type": "code",
   "execution_count": 17,
   "id": "6fca0a34",
   "metadata": {},
   "outputs": [
    {
     "name": "stdout",
     "output_type": "stream",
     "text": [
      "No uploaded files to process.\n"
     ]
    }
   ],
   "source": [
    "import fitz  # PyMuPDF\n",
    "\n",
    "def extract_pdf_content(file_path):\n",
    "    doc = fitz.open(file_path)\n",
    "    content = \"\"\n",
    "    structural_elements = []  # list to store detected headings as (text, page number, font size, font name)\n",
    "    \n",
    "    # Process each page in the document\n",
    "    for page_idx in range(len(doc)):\n",
    "        page = doc[page_idx]\n",
    "        blocks = page.get_text(\"dict\")[\"blocks\"]\n",
    "        for b in blocks:\n",
    "            if b.get(\"type\") == 0:  # this is a text block\n",
    "                for line in b[\"lines\"]:\n",
    "                    for span in line[\"spans\"]:\n",
    "                        text = span[\"text\"]\n",
    "                        fontsize = span[\"size\"]\n",
    "                        fontname = span[\"font\"]\n",
    "                        content += text + \" \"\n",
    "                        \n",
    "                        # Using a naive heuristic to detect headings/chapter titles:\n",
    "                        # If the font size is larger than 14 or the font indicates bold style\n",
    "                        if fontsize > 14 or \"Bold\" in fontname or \"bold\" in fontname:\n",
    "                            structural_elements.append((text, page_idx + 1, fontsize, fontname))\n",
    "                    content += \"\\n\"\n",
    "    return content, structural_elements\n",
    "\n",
    "# Example usage:\n",
    "# Process the file paths stored in uploaded_files if available.\n",
    "if uploaded_files:\n",
    "    for filename, file_path in uploaded_files.items():\n",
    "        if filename.lower().endswith(\".pdf\"):\n",
    "            text, headings = extract_pdf_content(file_path)\n",
    "            print(\"Extracted text:\")\n",
    "            print(text)\n",
    "            print(\"\\nInferred Headings/Chapters:\")\n",
    "            for h in headings:\n",
    "                print(\"Heading:\", h[0], \"| Page:\", h[1], \"| Font Size:\", h[2], \"| Font:\", h[3])\n",
    "else:\n",
    "    print(\"No uploaded files to process.\")\n"
   ]
  },
  {
   "cell_type": "code",
   "execution_count": 1,
   "id": "561564f0",
   "metadata": {},
   "outputs": [
    {
     "name": "stdout",
     "output_type": "stream",
     "text": [
      "📤 Document Import\n",
      "Please enter the full path to your document.\n",
      "Supported file types: .pdf, .txt, .docx, .epub, .mobi\n",
      "✅ File selected: Atomic habits ( PDFDrive ).pdf\n",
      "📄 The document 'Atomic habits ( PDFDrive ).pdf' is ready for immediate processing from its original location.\n",
      "COPY: A temporary copy has been made at: C:\\Users\\MEDIAD~1\\AppData\\Local\\Temp\\tmpv7rbq7fe\\Atomic habits ( PDFDrive ).pdf\n",
      "This temporary copy will be used for processing and then the directory will be cleaned up.\n",
      "\n",
      "📝 Processing would happen on: C:\\Users\\MEDIAD~1\\AppData\\Local\\Temp\\tmpv7rbq7fe\\Atomic habits ( PDFDrive ).pdf\n"
     ]
    }
   ],
   "source": [
    "import os\n",
    "import shutil # For a more concrete \"temporary copy\" example\n",
    "import tempfile # For true temporary file creation if needed\n",
    "\n",
    "def import_document():\n",
    "    \"\"\"\n",
    "    Prompts the user for a document path, validates its extension,\n",
    "    and conceptually handles it as a temporary upload.\n",
    "    \"\"\"\n",
    "    supported_extensions = ['.pdf', '.txt', '.docx', '.epub', '.mobi']\n",
    "    \n",
    "    print(\"📤 Document Import\")\n",
    "    print(\"Please enter the full path to your document.\")\n",
    "    print(f\"Supported file types: {', '.join(supported_extensions)}\")\n",
    "    \n",
    "    file_path = input(\"Enter file path: \").strip()\n",
    "    \n",
    "    # Basic validation: Check if path is not empty\n",
    "    if not file_path:\n",
    "        print(\"⚠️ No file path entered. Please try again.\")\n",
    "        return None\n",
    "        \n",
    "    # Validate file extension\n",
    "    file_name, file_extension = os.path.splitext(file_path)\n",
    "    \n",
    "    if file_extension.lower() not in supported_extensions:\n",
    "        print(f\"❌ Error: Unsupported file type '{file_extension}'.\")\n",
    "        print(f\"Please choose a file with one of the following extensions: {', '.join(supported_extensions)}\")\n",
    "        return None\n",
    "        \n",
    "    # Check if the file actually exists\n",
    "    if not os.path.exists(file_path):\n",
    "        print(f\"❌ Error: File not found at '{file_path}'. Please check the path and try again.\")\n",
    "        return None\n",
    "        \n",
    "    if not os.path.isfile(file_path):\n",
    "        print(f\"❌ Error: The path '{file_path}' is a directory, not a file. Please provide a path to a file.\")\n",
    "        return None\n",
    "\n",
    "    print(f\"✅ File selected: {file_path}\")\n",
    "    \n",
    "    # --- Handling \"Temporary Storage\" ---\n",
    "    # Option 1: Use the file directly from its original path (simplest for \"immediate processing\")\n",
    "    # The 'file_path' variable now holds the path to the uploaded document.\n",
    "    # You can pass this path to other functions for processing.\n",
    "    print(f\"📄 The document '{os.path.basename(file_path)}' is ready for immediate processing from its original location.\")\n",
    "    \n",
    "    # Option 2: Create a temporary copy (if you need to modify it or ensure it's in a specific temp location)\n",
    "    # This is useful if the original file shouldn't be touched or if you want a sandbox.\n",
    "    try:\n",
    "        # Create a temporary directory to store the copy\n",
    "        temp_dir = tempfile.mkdtemp()\n",
    "        temp_file_path = os.path.join(temp_dir, os.path.basename(file_path))\n",
    "        \n",
    "        # Copy the selected file to the temporary directory\n",
    "        shutil.copy2(file_path, temp_file_path)\n",
    "        print(f\"COPY: A temporary copy has been made at: {temp_file_path}\")\n",
    "        print(\"This temporary copy will be used for processing and then the directory will be cleaned up.\")\n",
    "        \n",
    "        # --- At this point, you would process 'temp_file_path' ---\n",
    "        # For example:\n",
    "        # process_document(temp_file_path)\n",
    "        \n",
    "        # After processing, you would typically clean up the temporary directory and its contents.\n",
    "        # For demonstration, we'll just print the path. In a real app, you'd delete it after use.\n",
    "        # To clean up:\n",
    "        # shutil.rmtree(temp_dir)\n",
    "        # print(f\"INFO: Temporary directory {temp_dir} would be deleted here.\")\n",
    "        \n",
    "        # For this example, we return the path to the temporary copy\n",
    "        return temp_file_path # Or file_path if using Option 1\n",
    "        \n",
    "    except Exception as e:\n",
    "        print(f\"❌ Error creating a temporary copy: {e}\")\n",
    "        return None\n",
    "    \n",
    "    # If you only need to process and then \"forget\", file_path is enough.\n",
    "    # No actual file deletion of the original happens unless explicitly coded.\n",
    "\n",
    "if __name__ == \"__main__\":\n",
    "    uploaded_file_location = import_document()\n",
    "    \n",
    "    if uploaded_file_location:\n",
    "        print(f\"\\n📝 Processing would happen on: {uploaded_file_location}\")\n",
    "        # Example:\n",
    "        # content = read_document_content(uploaded_file_location)\n",
    "        # if content:\n",
    "        #     print(\"Successfully processed document content.\")\n",
    "\n",
    "        # If a temporary copy was made (like in Option 2 shown in the function),\n",
    "        # and you are done with it, you might want to clean it up.\n",
    "        # The 'temp_dir' from Option 2 in import_document() would be the target for shutil.rmtree().\n",
    "        # This cleanup logic should be managed carefully, e.g., after all processing is complete.\n",
    "        # For simplicity in this example, cleanup is commented out within the function.\n",
    "    else:\n",
    "        print(\"\\nNo document was imported.\")"
   ]
  },
  {
   "cell_type": "code",
   "execution_count": null,
   "id": "cdf3a42f",
   "metadata": {},
   "outputs": [],
   "source": []
  }
 ],
 "metadata": {
  "kernelspec": {
   "display_name": "book_ai",
   "language": "python",
   "name": "python3"
  },
  "language_info": {
   "codemirror_mode": {
    "name": "ipython",
    "version": 3
   },
   "file_extension": ".py",
   "mimetype": "text/x-python",
   "name": "python",
   "nbconvert_exporter": "python",
   "pygments_lexer": "ipython3",
   "version": "3.13.2"
  }
 },
 "nbformat": 4,
 "nbformat_minor": 5
}
